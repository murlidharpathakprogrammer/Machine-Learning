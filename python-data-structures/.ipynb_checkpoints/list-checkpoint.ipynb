{
 "cells": [
  {
   "cell_type": "markdown",
   "id": "44624100",
   "metadata": {},
   "source": [
    "# List"
   ]
  },
  {
   "cell_type": "code",
   "execution_count": 20,
   "id": "43d3f070",
   "metadata": {
    "scrolled": true
   },
   "outputs": [
    {
     "name": "stdout",
     "output_type": "stream",
     "text": [
      "0\n"
     ]
    }
   ],
   "source": [
    "# List is a collection of items (strings, integers, or even other lists) enclosed in [ ] \n",
    "empty_list = []    # Creates an empty list 'empty_list'\n",
    "lst1 = ['one', 'two', 'three']    # List of strings\n",
    "lst2 = [4, 5]    # List of Integers\n",
    "lst3 = [[6,7],[8,9]]    # List of lists\n",
    "lst4 = []    # Empty list\n",
    "print(len(lst4))    # Prints the number of elements present in list 'lst4'"
   ]
  },
  {
   "cell_type": "markdown",
   "id": "7a9184f6",
   "metadata": {},
   "source": [
    "### length"
   ]
  },
  {
   "cell_type": "code",
   "execution_count": 21,
   "id": "39c0892d",
   "metadata": {},
   "outputs": [
    {
     "name": "stdout",
     "output_type": "stream",
     "text": [
      "0\n"
     ]
    }
   ],
   "source": [
    "# return the length of list\n",
    "lnth = len(lst4)\n",
    "print(lnth)"
   ]
  },
  {
   "cell_type": "markdown",
   "id": "60539d85",
   "metadata": {},
   "source": [
    "### append"
   ]
  },
  {
   "cell_type": "code",
   "execution_count": 22,
   "id": "e0b35b9e",
   "metadata": {},
   "outputs": [
    {
     "name": "stdout",
     "output_type": "stream",
     "text": [
      "[['one', 'two', 'three']]\n"
     ]
    }
   ],
   "source": [
    "# lst1.append(lst2) : adds list2 to list1\n",
    "lst4.append(lst1)\n",
    "print(lst4)"
   ]
  },
  {
   "cell_type": "code",
   "execution_count": 23,
   "id": "7aafb72d",
   "metadata": {},
   "outputs": [
    {
     "name": "stdout",
     "output_type": "stream",
     "text": [
      "[['one', 'two', 'three'], [4, 5]]\n"
     ]
    }
   ],
   "source": [
    "lst4.append(lst2)\n",
    "print(lst4)"
   ]
  },
  {
   "cell_type": "code",
   "execution_count": 24,
   "id": "b470afff",
   "metadata": {},
   "outputs": [
    {
     "name": "stdout",
     "output_type": "stream",
     "text": [
      "[['one', 'two', 'three'], [4, 5], [[6, 7], [8, 9]]]\n"
     ]
    }
   ],
   "source": [
    "lst4.append(lst3)\n",
    "print(lst4)"
   ]
  },
  {
   "cell_type": "markdown",
   "id": "ac09a79e",
   "metadata": {},
   "source": [
    "### insert"
   ]
  },
  {
   "cell_type": "code",
   "execution_count": 25,
   "id": "5c6ce74e",
   "metadata": {},
   "outputs": [
    {
     "name": "stdout",
     "output_type": "stream",
     "text": [
      "['one', 'two', 'three', 'four']\n"
     ]
    }
   ],
   "source": [
    "# lst.insert(a,b) : add element b at index a thus the number of elements increases by 1\n",
    "lst = ['one', 'two', 'four']\n",
    "lst.insert(2, 'three')\n",
    "print(lst)"
   ]
  },
  {
   "cell_type": "markdown",
   "id": "c7e03b69",
   "metadata": {},
   "source": [
    "### remove"
   ]
  },
  {
   "cell_type": "code",
   "execution_count": 30,
   "id": "317b4dec",
   "metadata": {},
   "outputs": [
    {
     "name": "stdout",
     "output_type": "stream",
     "text": [
      "['one', 'three', 'four', 'two']\n"
     ]
    }
   ],
   "source": [
    "# lst.remove(a) : removes first occurance of a present in 'lst' list\n",
    "lst = ['one', 'two', 'three', 'four', 'two']\n",
    "lst.remove('two')\n",
    "print(lst)"
   ]
  },
  {
   "cell_type": "markdown",
   "id": "e6e65550",
   "metadata": {},
   "source": [
    "### extend"
   ]
  },
  {
   "cell_type": "code",
   "execution_count": null,
   "id": "ecc3de29",
   "metadata": {},
   "outputs": [],
   "source": [
    "# lst1.extend(lst2) : adds elements of lst2 to lst1\n",
    "\n",
    "lst1 = ['one', 'two', 'three']\n",
    "lst2 = ['four', 'five']\n",
    "\n",
    "lst1.extend(lst2)\n",
    "print(lst1)"
   ]
  },
  {
   "cell_type": "markdown",
   "id": "0456b003",
   "metadata": {},
   "source": [
    "### delete"
   ]
  },
  {
   "cell_type": "code",
   "execution_count": null,
   "id": "82591f1f",
   "metadata": {},
   "outputs": [],
   "source": [
    "# del lst[a] : deletes item at index a\n",
    "lst1 = ['one', 'two', 'three', 'four', 'five']\n",
    "del lst1[1]\n",
    "print(lst1)"
   ]
  },
  {
   "cell_type": "markdown",
   "id": "c9cfdc6e",
   "metadata": {},
   "source": [
    "### pop"
   ]
  },
  {
   "cell_type": "code",
   "execution_count": 35,
   "id": "36b1f26f",
   "metadata": {},
   "outputs": [
    {
     "name": "stdout",
     "output_type": "stream",
     "text": [
      "['one', 'three', 'four', 'five']\n"
     ]
    }
   ],
   "source": [
    "# alternative to delete, lst.pop(1) also removes the element present at index 1\n",
    "lst1 = ['one', 'two', 'three', 'four', 'five']\n",
    "lst1.pop(1)\n",
    "print(lst1)"
   ]
  },
  {
   "cell_type": "markdown",
   "id": "f72819d5",
   "metadata": {},
   "source": [
    "### remove"
   ]
  },
  {
   "cell_type": "code",
   "execution_count": 37,
   "id": "5bb23d9b",
   "metadata": {},
   "outputs": [
    {
     "name": "stdout",
     "output_type": "stream",
     "text": [
      "['one', 'two', 'four']\n"
     ]
    }
   ],
   "source": [
    "# lst.remove(a) : removes element 'a' from the list 'lst'\n",
    "lst1 = ['one', 'two', 'three', 'four']\n",
    "lst1.remove('three')\n",
    "print(lst1)"
   ]
  },
  {
   "cell_type": "markdown",
   "id": "540918ee",
   "metadata": {},
   "source": [
    "### reverse"
   ]
  },
  {
   "cell_type": "code",
   "execution_count": 46,
   "id": "9fe78edc",
   "metadata": {},
   "outputs": [
    {
     "name": "stdout",
     "output_type": "stream",
     "text": [
      "['five', 'four', 'three', 'two', 'one']\n"
     ]
    }
   ],
   "source": [
    "# lst.reverse() : reverses the list\n",
    "lst1 = ['one', 'two', 'three', 'four', 'five']\n",
    "lst1.reverse()\n",
    "print(lst1)"
   ]
  },
  {
   "cell_type": "markdown",
   "id": "5ae667cc",
   "metadata": {},
   "source": [
    "### sorted"
   ]
  },
  {
   "cell_type": "code",
   "execution_count": 56,
   "id": "79292340",
   "metadata": {},
   "outputs": [
    {
     "name": "stdout",
     "output_type": "stream",
     "text": [
      "['four', 'one', 'three', 'two']\n",
      "[1, 2, 3, 4, 5]\n",
      "[3, 4, 2, 1, 5]\n",
      "[5, 4, 3, 2, 1]\n"
     ]
    }
   ],
   "source": [
    "# sorted(lst) : returns sorted list, but the original list is not changed\n",
    "lst1 = ['one', 'two', 'three', 'four']\n",
    "print(sorted(lst1))    # it will print after sorting alphabetically\n",
    "lst2 = [3,4, 2, 1, 5]\n",
    "print(sorted(lst2))\n",
    "print(lst2)\n",
    "\n",
    "# sorted() takes an optional argument 'reverse' which has a default value 'false'\n",
    "print(sorted(lst2, reverse = True))"
   ]
  },
  {
   "cell_type": "markdown",
   "id": "db07ca48",
   "metadata": {},
   "source": [
    "## Keywords related to List"
   ]
  },
  {
   "cell_type": "markdown",
   "id": "9d01bdb4",
   "metadata": {},
   "source": [
    "### in"
   ]
  },
  {
   "cell_type": "code",
   "execution_count": 40,
   "id": "09c0f867",
   "metadata": {},
   "outputs": [
    {
     "name": "stdout",
     "output_type": "stream",
     "text": [
      "two is present in list 'lst'\n"
     ]
    }
   ],
   "source": [
    "# a in lst : returns true if a is present in 'lst'\n",
    "lst = ['one', 'two', 'three']\n",
    "if 'two' in lst:\n",
    "    print(\"two is present in list \\'lst'\")\n",
    "else:\n",
    "          print(\"two is not present in list \\'lst'\")"
   ]
  },
  {
   "cell_type": "markdown",
   "id": "ac20ef6e",
   "metadata": {},
   "source": [
    "### not"
   ]
  },
  {
   "cell_type": "code",
   "execution_count": 45,
   "id": "da1629bb",
   "metadata": {},
   "outputs": [
    {
     "name": "stdout",
     "output_type": "stream",
     "text": [
      "true\n"
     ]
    }
   ],
   "source": [
    "# a not in lst : returns true if a is not present in the list 'lst'\n",
    "lst = [1,2,3,4,5]\n",
    "if 9 not in lst:\n",
    "    print('true')\n",
    "else:\n",
    "          print('false')"
   ]
  }
 ],
 "metadata": {
  "kernelspec": {
   "display_name": "Python 3 (ipykernel)",
   "language": "python",
   "name": "python3"
  },
  "language_info": {
   "codemirror_mode": {
    "name": "ipython",
    "version": 3
   },
   "file_extension": ".py",
   "mimetype": "text/x-python",
   "name": "python",
   "nbconvert_exporter": "python",
   "pygments_lexer": "ipython3",
   "version": "3.9.13"
  }
 },
 "nbformat": 4,
 "nbformat_minor": 5
}
