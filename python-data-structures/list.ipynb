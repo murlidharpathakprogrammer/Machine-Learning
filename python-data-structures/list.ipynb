{
 "cells": [
  {
   "cell_type": "markdown",
   "id": "44624100",
   "metadata": {},
   "source": [
    "# List"
   ]
  },
  {
   "cell_type": "code",
   "execution_count": 20,
   "id": "43d3f070",
   "metadata": {
    "scrolled": true
   },
   "outputs": [
    {
     "name": "stdout",
     "output_type": "stream",
     "text": [
      "0\n"
     ]
    }
   ],
   "source": [
    "# List is a collection of items (strings, integers, or even other lists) enclosed in [ ] \n",
    "empty_list = []    # Creates an empty list 'empty_list'\n",
    "lst1 = ['one', 'two', 'three']    # List of strings\n",
    "lst2 = [4, 5]    # List of Integers\n",
    "lst3 = [[6,7],[8,9]]    # List of lists\n",
    "lst4 = []    # Empty list\n",
    "print(len(lst4))    # Prints the number of elements present in list 'lst4'"
   ]
  },
  {
   "cell_type": "markdown",
   "id": "7a9184f6",
   "metadata": {},
   "source": [
    "### length"
   ]
  },
  {
   "cell_type": "code",
   "execution_count": 21,
   "id": "39c0892d",
   "metadata": {},
   "outputs": [
    {
     "name": "stdout",
     "output_type": "stream",
     "text": [
      "0\n"
     ]
    }
   ],
   "source": [
    "# return the length of list\n",
    "lnth = len(lst4)\n",
    "print(lnth)"
   ]
  },
  {
   "cell_type": "markdown",
   "id": "60539d85",
   "metadata": {},
   "source": [
    "### append"
   ]
  },
  {
   "cell_type": "code",
   "execution_count": 22,
   "id": "e0b35b9e",
   "metadata": {},
   "outputs": [
    {
     "name": "stdout",
     "output_type": "stream",
     "text": [
      "[['one', 'two', 'three']]\n"
     ]
    }
   ],
   "source": [
    "# lst1.append(lst2) : adds list2 to list1\n",
    "lst4.append(lst1)\n",
    "print(lst4)"
   ]
  },
  {
   "cell_type": "code",
   "execution_count": 23,
   "id": "7aafb72d",
   "metadata": {},
   "outputs": [
    {
     "name": "stdout",
     "output_type": "stream",
     "text": [
      "[['one', 'two', 'three'], [4, 5]]\n"
     ]
    }
   ],
   "source": [
    "lst4.append(lst2)\n",
    "print(lst4)"
   ]
  },
  {
   "cell_type": "code",
   "execution_count": 24,
   "id": "b470afff",
   "metadata": {},
   "outputs": [
    {
     "name": "stdout",
     "output_type": "stream",
     "text": [
      "[['one', 'two', 'three'], [4, 5], [[6, 7], [8, 9]]]\n"
     ]
    }
   ],
   "source": [
    "lst4.append(lst3)\n",
    "print(lst4)"
   ]
  },
  {
   "cell_type": "markdown",
   "id": "ac09a79e",
   "metadata": {},
   "source": [
    "### insert"
   ]
  },
  {
   "cell_type": "code",
   "execution_count": 25,
   "id": "5c6ce74e",
   "metadata": {},
   "outputs": [
    {
     "name": "stdout",
     "output_type": "stream",
     "text": [
      "['one', 'two', 'three', 'four']\n"
     ]
    }
   ],
   "source": [
    "# lst.insert(a,b) : add element b at index a thus the number of elements increases by 1\n",
    "lst = ['one', 'two', 'four']\n",
    "lst.insert(2, 'three')\n",
    "print(lst)"
   ]
  },
  {
   "cell_type": "markdown",
   "id": "c7e03b69",
   "metadata": {},
   "source": [
    "### remove"
   ]
  },
  {
   "cell_type": "code",
   "execution_count": 30,
   "id": "317b4dec",
   "metadata": {},
   "outputs": [
    {
     "name": "stdout",
     "output_type": "stream",
     "text": [
      "['one', 'three', 'four', 'two']\n"
     ]
    }
   ],
   "source": [
    "# lst.remove(a) : removes first occurance of a present in 'lst' list\n",
    "lst = ['one', 'two', 'three', 'four', 'two']\n",
    "lst.remove('two')\n",
    "print(lst)"
   ]
  },
  {
   "cell_type": "markdown",
   "id": "e6e65550",
   "metadata": {},
   "source": [
    "### extend"
   ]
  },
  {
   "cell_type": "code",
   "execution_count": null,
   "id": "ecc3de29",
   "metadata": {},
   "outputs": [],
   "source": [
    "# lst1.extend(lst2) : adds elements of lst2 to lst1\n",
    "\n",
    "lst1 = ['one', 'two', 'three']\n",
    "lst2 = ['four', 'five']\n",
    "\n",
    "lst1.extend(lst2)\n",
    "print(lst1)"
   ]
  },
  {
   "cell_type": "markdown",
   "id": "0456b003",
   "metadata": {},
   "source": [
    "### delete"
   ]
  },
  {
   "cell_type": "code",
   "execution_count": null,
   "id": "82591f1f",
   "metadata": {},
   "outputs": [],
   "source": [
    "# del lst[a] : deletes item at index a\n",
    "lst1 = ['one', 'two', 'three', 'four', 'five']\n",
    "del lst1[1]\n",
    "print(lst1)"
   ]
  },
  {
   "cell_type": "markdown",
   "id": "c9cfdc6e",
   "metadata": {},
   "source": [
    "### pop"
   ]
  },
  {
   "cell_type": "code",
   "execution_count": 35,
   "id": "36b1f26f",
   "metadata": {},
   "outputs": [
    {
     "name": "stdout",
     "output_type": "stream",
     "text": [
      "['one', 'three', 'four', 'five']\n"
     ]
    }
   ],
   "source": [
    "# alternative to delete, lst.pop(1) also removes the element present at index 1\n",
    "lst1 = ['one', 'two', 'three', 'four', 'five']\n",
    "lst1.pop(1)\n",
    "print(lst1)"
   ]
  },
  {
   "cell_type": "markdown",
   "id": "f72819d5",
   "metadata": {},
   "source": [
    "### remove"
   ]
  },
  {
   "cell_type": "code",
   "execution_count": 37,
   "id": "5bb23d9b",
   "metadata": {},
   "outputs": [
    {
     "name": "stdout",
     "output_type": "stream",
     "text": [
      "['one', 'two', 'four']\n"
     ]
    }
   ],
   "source": [
    "# lst.remove(a) : removes element 'a' from the list 'lst'\n",
    "lst1 = ['one', 'two', 'three', 'four']\n",
    "lst1.remove('three')\n",
    "print(lst1)"
   ]
  },
  {
   "cell_type": "markdown",
   "id": "540918ee",
   "metadata": {},
   "source": [
    "### reverse"
   ]
  },
  {
   "cell_type": "code",
   "execution_count": 46,
   "id": "9fe78edc",
   "metadata": {},
   "outputs": [
    {
     "name": "stdout",
     "output_type": "stream",
     "text": [
      "['five', 'four', 'three', 'two', 'one']\n"
     ]
    }
   ],
   "source": [
    "# lst.reverse() : reverses the list\n",
    "lst1 = ['one', 'two', 'three', 'four', 'five']\n",
    "lst1.reverse()\n",
    "print(lst1)"
   ]
  },
  {
   "cell_type": "markdown",
   "id": "5ae667cc",
   "metadata": {},
   "source": [
    "### sorted"
   ]
  },
  {
   "cell_type": "code",
   "execution_count": 48,
   "id": "79292340",
   "metadata": {},
   "outputs": [
    {
     "name": "stdout",
     "output_type": "stream",
     "text": [
      "Sorted:  ['four', 'one', 'three', 'two']\n",
      "Original:  ['one', 'two', 'three', 'four']\n"
     ]
    }
   ],
   "source": [
    "# sorted(lst) : returns sorted list, but the original list remain unchanged\n",
    "\n",
    "lst1 = ['one', 'two', 'three', 'four']\n",
    "print('Sorted: ',sorted(lst1))    # it will print after sorting alphabetically\n",
    "print('Original: ', lst1)"
   ]
  },
  {
   "cell_type": "code",
   "execution_count": 49,
   "id": "c43e7a1e",
   "metadata": {},
   "outputs": [
    {
     "name": "stdout",
     "output_type": "stream",
     "text": [
      "Sorted:  [1, 2, 3, 4, 5]\n",
      "Sorted in reverse order:  [5, 4, 3, 2, 1]\n",
      "Original [3, 4, 2, 1, 5]\n"
     ]
    }
   ],
   "source": [
    "# sorted(list_name, reverse=True) takes an optional argument 'reverse' which has a default value 'false'\n",
    "lst2 = [3,4, 2, 1, 5]\n",
    "print('Sorted: ', sorted(lst2))\n",
    "print('Sorted in reverse order: ', sorted(lst2, reverse = True))\n",
    "print('Original', lst2)"
   ]
  },
  {
   "cell_type": "markdown",
   "id": "8717cee7",
   "metadata": {},
   "source": [
    "## Keywords related to List"
   ]
  },
  {
   "cell_type": "markdown",
   "id": "9d01bdb4",
   "metadata": {},
   "source": [
    "### in"
   ]
  },
  {
   "cell_type": "code",
   "execution_count": 40,
   "id": "09c0f867",
   "metadata": {},
   "outputs": [
    {
     "name": "stdout",
     "output_type": "stream",
     "text": [
      "two is present in list 'lst'\n"
     ]
    }
   ],
   "source": [
    "# a in lst : returns true if a is present in 'lst'\n",
    "lst = ['one', 'two', 'three']\n",
    "if 'two' in lst:\n",
    "    print(\"two is present in list \\'lst'\")\n",
    "else:\n",
    "          print(\"two is not present in list \\'lst'\")"
   ]
  },
  {
   "cell_type": "markdown",
   "id": "ac20ef6e",
   "metadata": {},
   "source": [
    "### not"
   ]
  },
  {
   "cell_type": "code",
   "execution_count": 45,
   "id": "da1629bb",
   "metadata": {},
   "outputs": [
    {
     "name": "stdout",
     "output_type": "stream",
     "text": [
      "true\n"
     ]
    }
   ],
   "source": [
    "# a not in lst : returns true if a is not present in the list 'lst'\n",
    "lst = [1,2,3,4,5]\n",
    "if 9 not in lst:\n",
    "    print('true')\n",
    "else:\n",
    "          print('false')"
   ]
  },
  {
   "cell_type": "markdown",
   "id": "48e89523",
   "metadata": {},
   "source": [
    "### List having multiple references"
   ]
  },
  {
   "cell_type": "code",
   "execution_count": 9,
   "id": "366fabf9",
   "metadata": {},
   "outputs": [
    {
     "name": "stdout",
     "output_type": "stream",
     "text": [
      "[1, 2, 3, 4]\n",
      "[1, 2, 3, 4]\n"
     ]
    }
   ],
   "source": [
    "lst1 = [1,2,3]\n",
    "lst2 = lst1\n",
    "lst2.append(4)    # modifies lst1 as well\n",
    "print(lst1)\n",
    "print(lst2)"
   ]
  },
  {
   "cell_type": "markdown",
   "id": "57edf9eb",
   "metadata": {},
   "source": [
    "### Split string"
   ]
  },
  {
   "cell_type": "code",
   "execution_count": 10,
   "id": "05df4c3e",
   "metadata": {},
   "outputs": [
    {
     "name": "stdout",
     "output_type": "stream",
     "text": [
      "['one', 'two', 'three', 'four', 'five']\n"
     ]
    }
   ],
   "source": [
    "str1 = \"one,two,three,four,five\"\n",
    "str1_lst = str1.split(',')    # creates a list of strings after splitting the string where ',' comes\n",
    "print(str1_lst)"
   ]
  },
  {
   "cell_type": "markdown",
   "id": "2a4a4589",
   "metadata": {},
   "source": [
    "### List Indexing"
   ]
  },
  {
   "cell_type": "code",
   "execution_count": 11,
   "id": "208f085d",
   "metadata": {},
   "outputs": [
    {
     "name": "stdout",
     "output_type": "stream",
     "text": [
      "3\n",
      "5\n"
     ]
    }
   ],
   "source": [
    "# Indexing: Accesing elements of a list or any container using it's index\n",
    "lst = [1,2,3,4,5]\n",
    "print(lst[2])  # Print the element present at index 2 (i.e., the element at 3rd position as python follows 0 based indexing)\n",
    "print(lst[-1]) # Print element present at 1st position from last"
   ]
  },
  {
   "cell_type": "markdown",
   "id": "00a23dcf",
   "metadata": {},
   "source": [
    "### List slicing"
   ]
  },
  {
   "cell_type": "code",
   "execution_count": 14,
   "id": "f7d93506",
   "metadata": {},
   "outputs": [
    {
     "name": "stdout",
     "output_type": "stream",
     "text": [
      "[1, 2, 3, 4, 5]\n",
      "[1, 2, 3, 4]\n",
      "[1, 3, 5]\n",
      "[3, 5]\n"
     ]
    }
   ],
   "source": [
    "# slicing a list means accessing a segment of list\n",
    "num = [1,2,3,4,5]\n",
    "print(num[:])    # Print the elements from the start to the end\n",
    "print(num[0:4])  # Print the elements from 1st element to 4th element\n",
    "print(num[::2])  # Print alternate elements from start to end \n",
    "print(num[2::2]) # Print alternate elements starting from 2nd index"
   ]
  },
  {
   "cell_type": "markdown",
   "id": "223438b7",
   "metadata": {},
   "source": [
    "### Extending List using +"
   ]
  },
  {
   "cell_type": "code",
   "execution_count": 15,
   "id": "a3365acd",
   "metadata": {},
   "outputs": [
    {
     "name": "stdout",
     "output_type": "stream",
     "text": [
      "[1, 2, 3, 'Aditya', 'Anand', 'Sanskrit']\n"
     ]
    }
   ],
   "source": [
    "lst1 = [1,2,3]\n",
    "lst2 = ['Aditya', 'Anand', 'Sanskrit']\n",
    "lst3 = lst1+lst2  # adds elements of lst1 and lst2 to lst3\n",
    "print(lst3)"
   ]
  },
  {
   "cell_type": "markdown",
   "id": "111735c8",
   "metadata": {},
   "source": [
    "### count"
   ]
  },
  {
   "cell_type": "code",
   "execution_count": 19,
   "id": "581bbac7",
   "metadata": {},
   "outputs": [
    {
     "name": "stdout",
     "output_type": "stream",
     "text": [
      "Ram:  2\n",
      "Shyam:  1\n"
     ]
    }
   ],
   "source": [
    "# lst.count(x) : returns the frequency of element 'x' in list 'lst'\n",
    "lst = ['Ram', 'Shyam', 'Ghanshyam', 'Ram']\n",
    "print('Ram: ',lst.count('Ram'))\n",
    "print('Shyam: ',lst.count('Shyam'))"
   ]
  },
  {
   "cell_type": "markdown",
   "id": "a8cf8838",
   "metadata": {},
   "source": [
    "### List Traversal"
   ]
  },
  {
   "cell_type": "code",
   "execution_count": 20,
   "id": "22abf93e",
   "metadata": {},
   "outputs": [
    {
     "name": "stdout",
     "output_type": "stream",
     "text": [
      "Binod\n",
      "Gajodhar\n",
      "Mohan\n",
      "Guddu\n"
     ]
    }
   ],
   "source": [
    "# Traversing : process of passing across, over, or through\n",
    "lst = ['Binod', 'Gajodhar', 'Mohan', 'Guddu']\n",
    "for x in lst: # Access the elements successively\n",
    "    print(x)"
   ]
  },
  {
   "cell_type": "markdown",
   "id": "37028167",
   "metadata": {},
   "source": [
    "### List Comprehension"
   ]
  },
  {
   "cell_type": "code",
   "execution_count": 36,
   "id": "f2e1f202",
   "metadata": {},
   "outputs": [
    {
     "name": "stdout",
     "output_type": "stream",
     "text": [
      "[2, 4, 6, 8, 10, 12, 14, 16, 18, 20]\n",
      "[0, 1, 2, 3, 4]\n"
     ]
    }
   ],
   "source": [
    "# A succinct way to create lists based on certain conditions\n",
    "# range(start, stop, step) function return a range of elements, where start and step is optional and stop is not included\n",
    "# range(5) returns 0,1,2,3,4\n",
    "table2 = [ 2*x for x in range(1, 11)]\n",
    "print(table2)\n",
    "lst =[ele for ele in range(5)]\n",
    "print(lst)"
   ]
  },
  {
   "cell_type": "code",
   "execution_count": 40,
   "id": "6d41346b",
   "metadata": {},
   "outputs": [
    {
     "name": "stdout",
     "output_type": "stream",
     "text": [
      "[2, 53, 4, 6, 73, 8, 10, 12, 13, 15]\n"
     ]
    }
   ],
   "source": [
    "# filter the list\n",
    "lst = [-1,2,53,4,-5,6,73,8,-9,10,-81,12,13,-41,15]\n",
    "lst_of_non_negative = [ele for ele in lst if ele>=0]\n",
    "print(lst_of_non_negative)"
   ]
  },
  {
   "cell_type": "code",
   "execution_count": 46,
   "id": "b2922064",
   "metadata": {},
   "outputs": [
    {
     "name": "stdout",
     "output_type": "stream",
     "text": [
      "[1, 2, 3, 4, 5, 6, 7, 8, 9, 10]\n",
      "[(1, 1), (2, 4), (3, 9), (4, 16), (5, 25), (6, 36), (7, 49), (8, 64), (9, 81), (10, 100)]\n"
     ]
    }
   ],
   "source": [
    "# create a list of tuples\n",
    "lst = [x for x in range(1,11)]\n",
    "print(lst)\n",
    "sqr_lst = [(x, x**2) for x in lst]\n",
    "print(sqr_lst)"
   ]
  },
  {
   "cell_type": "markdown",
   "id": "be30e10d",
   "metadata": {},
   "source": [
    "### Nested List Comprehensions"
   ]
  },
  {
   "cell_type": "code",
   "execution_count": null,
   "id": "93321d37",
   "metadata": {},
   "outputs": [],
   "source": []
  }
 ],
 "metadata": {
  "kernelspec": {
   "display_name": "Python 3 (ipykernel)",
   "language": "python",
   "name": "python3"
  },
  "language_info": {
   "codemirror_mode": {
    "name": "ipython",
    "version": 3
   },
   "file_extension": ".py",
   "mimetype": "text/x-python",
   "name": "python",
   "nbconvert_exporter": "python",
   "pygments_lexer": "ipython3",
   "version": "3.9.13"
  }
 },
 "nbformat": 4,
 "nbformat_minor": 5
}
